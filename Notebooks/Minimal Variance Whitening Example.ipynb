{
 "cells": [
  {
   "cell_type": "code",
   "execution_count": 1,
   "id": "1d1e876e",
   "metadata": {},
   "outputs": [],
   "source": [
    "import numpy as np\n",
    "import minvar_whitening as mvw\n",
    "import matplotlib.pyplot as plt\n",
    "from scipy.linalg import qr, fractional_matrix_power\n",
    "import seaborn as sns"
   ]
  },
  {
   "cell_type": "markdown",
   "id": "9b8b706e",
   "metadata": {},
   "source": [
    "## Simple example\n",
    "\n",
    "Mahalanobis whitening takes a correlated dataset and removes correlations between variables and standardizes each variable. We create a 10-dimensional dataset with $N$ observations $X \\in \\mathbb{R}^{d \\times N}$ below with empirical covariance matrix $\\Sigma$ and empirical mean $\\mu$, and standardize this dataset using Mahalanobis whitening:\n",
    "\n",
    "$$Y = \\Sigma^{-1/2}(X - \\mu)$$."
   ]
  },
  {
   "cell_type": "code",
   "execution_count": 2,
   "id": "1d8e2b0c",
   "metadata": {},
   "outputs": [],
   "source": [
    "#make a correlated covariance matrix by rotating a diagonal \n",
    "#matrix using an orthogonal matrix, found using QR decomposition\n",
    "np.random.seed(1)\n",
    "d = 5\n",
    "\n",
    "random_matrix = np.random.rand(d, d)\n",
    "true_cov = random_matrix.T @ random_matrix"
   ]
  },
  {
   "cell_type": "code",
   "execution_count": 3,
   "id": "7804ea26",
   "metadata": {},
   "outputs": [],
   "source": [
    "true_mean = np.zeros(d)\n",
    "N = 200\n",
    "\n",
    "X = np.real(np.random.multivariate_normal(true_mean, true_cov, N)).T"
   ]
  },
  {
   "cell_type": "code",
   "execution_count": 4,
   "id": "288dc849",
   "metadata": {},
   "outputs": [],
   "source": [
    "emp_cov = np.cov(X)\n",
    "emp_mean = np.mean(X, axis = 1)[:, np.newaxis]"
   ]
  },
  {
   "cell_type": "code",
   "execution_count": 5,
   "id": "7c613da9",
   "metadata": {},
   "outputs": [
    {
     "data": {
      "image/png": "[encoded data removed]",
      "text/plain": [
       "<Figure size 432x288 with 2 Axes>"
      ]
     },
     "metadata": {
      "needs_background": "light"
     },
     "output_type": "display_data"
    }
   ],
   "source": [
    "fig, ax = plt.subplots()\n",
    "\n",
    "ax = sns.heatmap(emp_cov, cmap = 'twilight_shifted', center = 0)\n",
    "ax.set_title('Heatmap of empirical covariance matrix of X');"
   ]
  },
  {
   "cell_type": "code",
   "execution_count": 6,
   "id": "1e24403d",
   "metadata": {},
   "outputs": [],
   "source": [
    "emp_cov_inv = np.linalg.inv(emp_cov)\n",
    "emp_cov_inv_sqrt = fractional_matrix_power(emp_cov_inv, 1/2)\n",
    "\n",
    "Y = emp_cov_inv_sqrt @ (X - emp_mean)"
   ]
  },
  {
   "cell_type": "code",
   "execution_count": 7,
   "id": "f8aa3ce5",
   "metadata": {},
   "outputs": [
    {
     "data": {
      "image/png": "[encoded data removed]",
      "text/plain": [
       "<Figure size 432x288 with 2 Axes>"
      ]
     },
     "metadata": {
      "needs_background": "light"
     },
     "output_type": "display_data"
    }
   ],
   "source": [
    "fig, ax = plt.subplots()\n",
    "\n",
    "ax = sns.heatmap(np.cov(Y), cmap = 'twilight_shifted', center=0)\n",
    "ax.set_title('Heatmap of covariance matrix of whitened data Y');"
   ]
  },
  {
   "cell_type": "code",
   "execution_count": 8,
   "id": "cf58c9eb",
   "metadata": {},
   "outputs": [
    {
     "name": "stdout",
     "output_type": "stream",
     "text": [
      "Eigenvalues of the whitened data Y: [1. 1. 1. 1. 1.]\n"
     ]
    }
   ],
   "source": [
    "print('Eigenvalues of the whitened data Y:', np.linalg.eigvals(np.cov(Y)))"
   ]
  },
  {
   "cell_type": "markdown",
   "id": "7fea92ec",
   "metadata": {},
   "source": [
    "## Degenerate example\n",
    "\n",
    "### Mahalanobis whitening\n",
    "The above example shows that using Mahalanobis whitening successfully transforms the dataset to a new dataset with the identity matrix as its covariance matrix. However, if the covariance matrix of the dataset $X$ is singular, the inverse covariance matrix is not available. "
   ]
  },
  {
   "cell_type": "code",
   "execution_count": 9,
   "id": "d76e6961",
   "metadata": {},
   "outputs": [],
   "source": [
    "#Perform the same as above but with a degenerate covariance matrix\n",
    "degenerate_true_cov = np.random.rand(d, d)\n",
    "degenerate_true_cov[:, -1] = np.zeros(d)\n",
    "degenerate_true_cov = degenerate_true_cov.T @ degenerate_true_cov\n",
    "\n",
    "true_mean = np.zeros(d)\n",
    "N = 200\n",
    "\n",
    "degenerate_X = np.real(np.random.multivariate_normal(true_mean, degenerate_true_cov, N)).T\n",
    "degenerate_emp_cov = np.cov(degenerate_X)\n",
    "degenerate_emp_mean = np.mean(degenerate_X, axis = 1)[:, np.newaxis]"
   ]
  },
  {
   "cell_type": "code",
   "execution_count": 10,
   "id": "5c8e5e76",
   "metadata": {},
   "outputs": [
    {
     "data": {
      "image/png": "[encoded data removed]",
      "text/plain": [
       "<Figure size 432x288 with 2 Axes>"
      ]
     },
     "metadata": {
      "needs_background": "light"
     },
     "output_type": "display_data"
    }
   ],
   "source": [
    "fig, ax = plt.subplots()\n",
    "\n",
    "ax = sns.heatmap(degenerate_emp_cov, cmap = 'twilight_shifted', center = 0)\n",
    "ax.set_title('Heatmap of empirical covariance matrix of degenerate X');"
   ]
  },
  {
   "cell_type": "code",
   "execution_count": 11,
   "id": "5b6319e0",
   "metadata": {},
   "outputs": [
    {
     "ename": "LinAlgError",
     "evalue": "Singular matrix",
     "output_type": "error",
     "traceback": [
      "\u001b[0;31m---------------------------------------------------------------------------\u001b[0m",
      "\u001b[0;31mLinAlgError\u001b[0m                               Traceback (most recent call last)",
      "Input \u001b[0;32mIn [11]\u001b[0m, in \u001b[0;36m<cell line: 1>\u001b[0;34m()\u001b[0m\n\u001b[0;32m----> 1\u001b[0m degenerate_emp_cov_inv \u001b[38;5;241m=\u001b[39m \u001b[43mnp\u001b[49m\u001b[38;5;241;43m.\u001b[39;49m\u001b[43mlinalg\u001b[49m\u001b[38;5;241;43m.\u001b[39;49m\u001b[43minv\u001b[49m\u001b[43m(\u001b[49m\u001b[43mdegenerate_emp_cov\u001b[49m\u001b[43m)\u001b[49m\n\u001b[1;32m      2\u001b[0m degenerate_emp_cov_inv_sqrt \u001b[38;5;241m=\u001b[39m fractional_matrix_power(degenerate_emp_cov_inv, \u001b[38;5;241m1\u001b[39m\u001b[38;5;241m/\u001b[39m\u001b[38;5;241m2\u001b[39m)\n\u001b[1;32m      4\u001b[0m degenerate_Y \u001b[38;5;241m=\u001b[39m degenerate_emp_cov_inv_sqrt \u001b[38;5;241m@\u001b[39m (degenerate_X \u001b[38;5;241m-\u001b[39m degenerate_emp_mean)\n",
      "File \u001b[0;32m<__array_function__ internals>:5\u001b[0m, in \u001b[0;36minv\u001b[0;34m(*args, **kwargs)\u001b[0m\n",
      "File \u001b[0;32m~/opt/anaconda3/lib/python3.9/site-packages/numpy/linalg/linalg.py:545\u001b[0m, in \u001b[0;36minv\u001b[0;34m(a)\u001b[0m\n\u001b[1;32m    543\u001b[0m signature \u001b[38;5;241m=\u001b[39m \u001b[38;5;124m'\u001b[39m\u001b[38;5;124mD->D\u001b[39m\u001b[38;5;124m'\u001b[39m \u001b[38;5;28;01mif\u001b[39;00m isComplexType(t) \u001b[38;5;28;01melse\u001b[39;00m \u001b[38;5;124m'\u001b[39m\u001b[38;5;124md->d\u001b[39m\u001b[38;5;124m'\u001b[39m\n\u001b[1;32m    544\u001b[0m extobj \u001b[38;5;241m=\u001b[39m get_linalg_error_extobj(_raise_linalgerror_singular)\n\u001b[0;32m--> 545\u001b[0m ainv \u001b[38;5;241m=\u001b[39m \u001b[43m_umath_linalg\u001b[49m\u001b[38;5;241;43m.\u001b[39;49m\u001b[43minv\u001b[49m\u001b[43m(\u001b[49m\u001b[43ma\u001b[49m\u001b[43m,\u001b[49m\u001b[43m \u001b[49m\u001b[43msignature\u001b[49m\u001b[38;5;241;43m=\u001b[39;49m\u001b[43msignature\u001b[49m\u001b[43m,\u001b[49m\u001b[43m \u001b[49m\u001b[43mextobj\u001b[49m\u001b[38;5;241;43m=\u001b[39;49m\u001b[43mextobj\u001b[49m\u001b[43m)\u001b[49m\n\u001b[1;32m    546\u001b[0m \u001b[38;5;28;01mreturn\u001b[39;00m wrap(ainv\u001b[38;5;241m.\u001b[39mastype(result_t, copy\u001b[38;5;241m=\u001b[39m\u001b[38;5;28;01mFalse\u001b[39;00m))\n",
      "File \u001b[0;32m~/opt/anaconda3/lib/python3.9/site-packages/numpy/linalg/linalg.py:88\u001b[0m, in \u001b[0;36m_raise_linalgerror_singular\u001b[0;34m(err, flag)\u001b[0m\n\u001b[1;32m     87\u001b[0m \u001b[38;5;28;01mdef\u001b[39;00m \u001b[38;5;21m_raise_linalgerror_singular\u001b[39m(err, flag):\n\u001b[0;32m---> 88\u001b[0m     \u001b[38;5;28;01mraise\u001b[39;00m LinAlgError(\u001b[38;5;124m\"\u001b[39m\u001b[38;5;124mSingular matrix\u001b[39m\u001b[38;5;124m\"\u001b[39m)\n",
      "\u001b[0;31mLinAlgError\u001b[0m: Singular matrix"
     ]
    }
   ],
   "source": [
    "degenerate_emp_cov_inv = np.linalg.inv(degenerate_emp_cov)\n",
    "degenerate_emp_cov_inv_sqrt = fractional_matrix_power(degenerate_emp_cov_inv, 1/2)\n",
    "\n",
    "degenerate_Y = degenerate_emp_cov_inv_sqrt @ (degenerate_X - degenerate_emp_mean)"
   ]
  },
  {
   "cell_type": "markdown",
   "id": "c899244d",
   "metadata": {},
   "source": [
    "### Minimal Variance Whitening \n",
    "We now use the minimal variance whitening method to whiten the above degenerate dataset. "
   ]
  },
  {
   "cell_type": "code",
   "execution_count": 12,
   "id": "d22b4999",
   "metadata": {},
   "outputs": [],
   "source": [
    "k = 4 #max value of k = rank of data, which is 4 here.\n",
    "\n",
    "A_k = mvw.A_matrix(degenerate_emp_cov, k)\n",
    "MVW_X = A_k @ (degenerate_X - degenerate_emp_mean) * mvw.adjustment_value(degenerate_emp_cov, k) \n",
    "#Adjustment value is needed when value is low rank. See publication for more information."
   ]
  },
  {
   "cell_type": "code",
   "execution_count": 13,
   "id": "69abce73",
   "metadata": {},
   "outputs": [
    {
     "data": {
      "image/png": "[encoded data removed]",
      "text/plain": [
       "<Figure size 432x288 with 2 Axes>"
      ]
     },
     "metadata": {
      "needs_background": "light"
     },
     "output_type": "display_data"
    }
   ],
   "source": [
    "fig, ax = plt.subplots()\n",
    "\n",
    "ax = sns.heatmap(np.real(np.cov(MVW_X)), cmap = 'twilight_shifted', center=0)\n",
    "ax.set_title('Heatmap of covariance matrix of MV-whitened data Y');"
   ]
  },
  {
   "cell_type": "code",
   "execution_count": 14,
   "id": "ae8cda88",
   "metadata": {},
   "outputs": [
    {
     "name": "stdout",
     "output_type": "stream",
     "text": [
      "Eigenvalues of the whitened degenerate data Y using the minimal-variance whitening: [1. 1. 1. 1. 0.]\n"
     ]
    }
   ],
   "source": [
    "print('Eigenvalues of the whitened degenerate data Y using the minimal-variance whitening:',\n",
    "     np.round(np.linalg.eigvals(np.cov(MVW_X)), 5))"
   ]
  }
 ],
 "metadata": {
  "kernelspec": {
   "display_name": "Python 3 (ipykernel)",
   "language": "python",
   "name": "python3"
  },
  "language_info": {
   "codemirror_mode": {
    "name": "ipython",
    "version": 3
   },
   "file_extension": ".py",
   "mimetype": "text/x-python",
   "name": "python",
   "nbconvert_exporter": "python",
   "pygments_lexer": "ipython3",
   "version": "3.9.12"
  }
 },
 "nbformat": 4,
 "nbformat_minor": 5
}
